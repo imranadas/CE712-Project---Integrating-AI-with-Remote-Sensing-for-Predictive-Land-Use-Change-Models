{
 "cells": [
  {
   "cell_type": "code",
   "execution_count": 1,
   "metadata": {},
   "outputs": [],
   "source": [
    "import geopandas as gpd\n",
    "from datetime import timedelta\n",
    "from IPython.display import display\n",
    "from shapely.geometry import Polygon\n",
    "from utils import process_and_save_data, load_processed_data\n",
    "from model import RobustLandUsePredictionModel\n",
    "from views import create_band_viewer, create_classification_viewer, create_spectral_indices_viewer, create_map_with_slider, analyze_time_series, plot_time_series, create_prediction_map_with_slider\n"
   ]
  },
  {
   "cell_type": "code",
   "execution_count": null,
   "metadata": {},
   "outputs": [],
   "source": [
    "roi_coords = [\n",
    "    [75.58679011123377, 26.725580815770467],\n",
    "    [76.00152399795252, 26.725580815770467],\n",
    "    [76.00152399795252, 27.08929110630265],\n",
    "    [75.58679011123377, 27.08929110630265],\n",
    "    [75.58679011123377, 26.725580815770467]\n",
    "]\n",
    "\n",
    "roi_polygon = Polygon(roi_coords)\n",
    "roi_gdf = gpd.GeoDataFrame(index=[0], crs='EPSG:4326', geometry=[roi_polygon])\n",
    "\n"
   ]
  },
  {
   "cell_type": "code",
   "execution_count": null,
   "metadata": {},
   "outputs": [],
   "source": [
    "# Define file paths\n",
    "data_dir = 'DataSet'\n",
    "processed_dir = 'Processed_DataSet'\n",
    "bounds = [[26.725580815770467, 75.58679011123377], \n",
    "         [27.08929110630265, 76.00152399795252]]\n",
    "\n",
    "# Analyze time series\n",
    "results = analyze_time_series(data_dir)\n",
    "\n",
    "# Plot the time series results\n",
    "plot_time_series(results)\n"
   ]
  },
  {
   "cell_type": "code",
   "execution_count": null,
   "metadata": {},
   "outputs": [],
   "source": [
    "all_processed_data = process_and_save_data(data_dir, processed_dir)\n"
   ]
  },
  {
   "cell_type": "code",
   "execution_count": null,
   "metadata": {},
   "outputs": [],
   "source": [
    "band_viewer = create_band_viewer('DataSet')\n",
    "display(band_viewer)\n"
   ]
  },
  {
   "cell_type": "code",
   "execution_count": null,
   "metadata": {},
   "outputs": [],
   "source": [
    "spectral_viewer = create_spectral_indices_viewer(all_processed_data)\n",
    "display(spectral_viewer)\n"
   ]
  },
  {
   "cell_type": "code",
   "execution_count": null,
   "metadata": {},
   "outputs": [],
   "source": [
    "classification_viewer = create_classification_viewer(all_processed_data)\n",
    "display(classification_viewer)\n"
   ]
  },
  {
   "cell_type": "code",
   "execution_count": null,
   "metadata": {},
   "outputs": [],
   "source": [
    "Map = create_map_with_slider(all_processed_data, bounds, roi_gdf)\n",
    "Map\n"
   ]
  },
  {
   "cell_type": "code",
   "execution_count": null,
   "metadata": {},
   "outputs": [],
   "source": [
    "'''\n",
    "model = RobustLandUsePredictionModel(\n",
    "        spatial_smoothing=1.0,\n",
    "        chunk_size=100,\n",
    "        n_estimators=50\n",
    "    )\n",
    "    \n",
    "model.fit('Processed_DataSet')\n",
    "\n",
    "model.save_model('land_use_model.joblib')\n",
    "'''"
   ]
  },
  {
   "cell_type": "code",
   "execution_count": null,
   "metadata": {},
   "outputs": [],
   "source": [
    "model = RobustLandUsePredictionModel.load_model('land_use_model.joblib')\n"
   ]
  },
  {
   "cell_type": "code",
   "execution_count": null,
   "metadata": {},
   "outputs": [],
   "source": [
    "all_historical_data = load_processed_data(processed_dir)\n"
   ]
  },
  {
   "cell_type": "code",
   "execution_count": null,
   "metadata": {},
   "outputs": [],
   "source": [
    "data_for_visualization = []"
   ]
  },
  {
   "cell_type": "code",
   "execution_count": null,
   "metadata": {},
   "outputs": [],
   "source": [
    "if all_historical_data:\n",
    "    all_historical_data.sort(key=lambda x: x['date'])\n",
    "    current_date = all_historical_data[-1]['date']\n",
    "    one_year_ago = current_date - timedelta(days=365)\n",
    "    \n",
    "    # Filter to get only the last 12 months of data\n",
    "    recent_data = [\n",
    "        data for data in all_historical_data \n",
    "        if data['date'] >= one_year_ago\n",
    "    ]\n",
    "    \n",
    "    print(f\"Using historical data from {recent_data[0]['date_str']} to {recent_data[-1]['date_str']}\")\n",
    "    print(f\"Number of historical data points: {len(recent_data)}\")\n",
    "    \n",
    "    # 3. Update model's historical data with recent data\n",
    "    model.historical_data = recent_data\n",
    "    \n",
    "    # 4. Make predictions for future months\n",
    "    try:\n",
    "        predictions = model.predict_multiple_steps(num_steps=3)\n",
    "        print(\"\\nPredictions generated for:\")\n",
    "        for pred in predictions:\n",
    "            print(f\"- {pred['date_str']}\")\n",
    "        \n",
    "        # 5. Combine recent historical and prediction data for visualization\n",
    "        data_for_visualization = recent_data + predictions\n",
    "        \n",
    "        # 7. Analyze and print prediction summary\n",
    "        print(\"\\nPrediction Summary:\")\n",
    "        for i, pred in enumerate(predictions, 1):\n",
    "            total_pixels = pred['classification'].size\n",
    "            urban_pixels = (pred['classification'] == 3).sum()\n",
    "            veg_pixels = ((pred['classification'] == 1) | \n",
    "                         (pred['classification'] == 2)).sum()\n",
    "            \n",
    "            urban_percent = (urban_pixels / total_pixels) * 100\n",
    "            veg_percent = (veg_pixels / total_pixels) * 100\n",
    "            \n",
    "            print(f\"\\nMonth {i} ({pred['date_str']}):\")\n",
    "            print(f\"- Urban coverage: {urban_percent:.1f}%\")\n",
    "            print(f\"- Vegetation coverage: {veg_percent:.1f}%\")\n",
    "            print(f\"- Average NDVI: {pred['NDVI'].mean():.3f}\")\n",
    "            print(f\"- Average NDBI: {pred['NDBI'].mean():.3f}\")\n",
    "    \n",
    "    except Exception as e:\n",
    "        print(f\"Error during prediction: {str(e)}\")\n",
    "else:\n",
    "    print(\"No historical data found in the processed directory.\")\n",
    "    "
   ]
  },
  {
   "cell_type": "code",
   "execution_count": null,
   "metadata": {},
   "outputs": [],
   "source": [
    "\n",
    "P_Map = create_prediction_map_with_slider(data_for_visualization, bounds, roi_gdf)\n",
    "P_Map\n"
   ]
  },
  {
   "cell_type": "code",
   "execution_count": null,
   "metadata": {},
   "outputs": [],
   "source": [
    "importance_df = model.get_feature_importance()\n"
   ]
  },
  {
   "cell_type": "code",
   "execution_count": null,
   "metadata": {},
   "outputs": [],
   "source": [
    "print(\"\\nFeature Importance:\")\n",
    "print(importance_df)\n"
   ]
  },
  {
   "cell_type": "code",
   "execution_count": null,
   "metadata": {},
   "outputs": [],
   "source": [
    "summary = model.get_model_summary()\n",
    "print(\"\\nModel Summary:\")\n",
    "for key, value in summary.items():\n",
    "    print(f\"{key}: {value}\")\n"
   ]
  }
 ],
 "metadata": {
  "kernelspec": {
   "display_name": "py_venv",
   "language": "python",
   "name": "python3"
  },
  "language_info": {
   "codemirror_mode": {
    "name": "ipython",
    "version": 3
   },
   "file_extension": ".py",
   "mimetype": "text/x-python",
   "name": "python",
   "nbconvert_exporter": "python",
   "pygments_lexer": "ipython3",
   "version": "3.10.11"
  }
 },
 "nbformat": 4,
 "nbformat_minor": 2
}
