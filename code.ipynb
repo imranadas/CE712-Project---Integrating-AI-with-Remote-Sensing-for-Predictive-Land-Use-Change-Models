{
 "cells": [
  {
   "cell_type": "code",
   "execution_count": null,
   "metadata": {},
   "outputs": [],
   "source": [
    "import numpy as np\n",
    "import geopandas as gpd\n",
    "from IPython.display import display\n",
    "from shapely.geometry import Polygon\n",
    "from utils import process_and_save_data\n",
    "from model import EnhancedLandUsePredictionModel\n",
    "from views import create_band_viewer, create_classification_viewer, create_spectral_indices_viewer, create_map_with_slider, analyze_time_series, plot_time_series, create_prediction_map_with_slider, create_prediction_viewer, visualize_predictions, ModelAnalysis\n"
   ]
  },
  {
   "cell_type": "code",
   "execution_count": null,
   "metadata": {},
   "outputs": [],
   "source": [
    "roi_coords = [\n",
    "    [75.58679011123377, 26.725580815770467],\n",
    "    [76.00152399795252, 26.725580815770467],\n",
    "    [76.00152399795252, 27.08929110630265],\n",
    "    [75.58679011123377, 27.08929110630265],\n",
    "    [75.58679011123377, 26.725580815770467]\n",
    "]\n",
    "\n",
    "roi_polygon = Polygon(roi_coords)\n",
    "roi_gdf = gpd.GeoDataFrame(index=[0], crs='EPSG:4326', geometry=[roi_polygon])\n",
    "\n"
   ]
  },
  {
   "cell_type": "code",
   "execution_count": null,
   "metadata": {},
   "outputs": [],
   "source": [
    "# Define file paths\n",
    "data_dir = 'DataSet'\n",
    "processed_dir = 'Processed_DataSet'\n",
    "bounds = [[26.725580815770467, 75.58679011123377], \n",
    "         [27.08929110630265, 76.00152399795252]]\n",
    "\n",
    "# Analyze time series\n",
    "results = analyze_time_series(data_dir)\n",
    "\n",
    "# Plot the time series results\n",
    "plot_time_series(results)\n"
   ]
  },
  {
   "cell_type": "code",
   "execution_count": null,
   "metadata": {},
   "outputs": [],
   "source": [
    "all_processed_data = process_and_save_data(data_dir, processed_dir)\n"
   ]
  },
  {
   "cell_type": "code",
   "execution_count": null,
   "metadata": {},
   "outputs": [],
   "source": [
    "band_viewer = create_band_viewer('DataSet')\n",
    "display(band_viewer)\n"
   ]
  },
  {
   "cell_type": "code",
   "execution_count": null,
   "metadata": {},
   "outputs": [],
   "source": [
    "spectral_viewer = create_spectral_indices_viewer(all_processed_data)\n",
    "display(spectral_viewer)\n"
   ]
  },
  {
   "cell_type": "code",
   "execution_count": null,
   "metadata": {},
   "outputs": [],
   "source": [
    "classification_viewer = create_classification_viewer(all_processed_data)\n",
    "display(classification_viewer)\n"
   ]
  },
  {
   "cell_type": "code",
   "execution_count": null,
   "metadata": {},
   "outputs": [],
   "source": [
    "Map = create_map_with_slider(all_processed_data, bounds, roi_gdf)\n",
    "Map\n"
   ]
  },
  {
   "cell_type": "code",
   "execution_count": null,
   "metadata": {},
   "outputs": [],
   "source": [
    "\n",
    "model = EnhancedLandUsePredictionModel(\n",
    "        spatial_smoothing=1.0,\n",
    "        window_size=3,\n",
    "        n_estimators=50\n",
    "    )\n",
    "\n",
    "model.fit(all_processed_data, verbose=True, batch_size=10)\n",
    "\n",
    "model.save_model('land_use_model.joblib')\n",
    "\n"
   ]
  },
  {
   "cell_type": "code",
   "execution_count": null,
   "metadata": {},
   "outputs": [],
   "source": [
    "model = EnhancedLandUsePredictionModel.load_model('land_use_model.joblib')\n"
   ]
  },
  {
   "cell_type": "code",
   "execution_count": null,
   "metadata": {},
   "outputs": [],
   "source": [
    "predictions = model.predict_future(\n",
    "        historical_window=all_processed_data[-24:],\n",
    "        steps=3,\n",
    "        verbose=True\n",
    "    )"
   ]
  },
  {
   "cell_type": "code",
   "execution_count": null,
   "metadata": {},
   "outputs": [],
   "source": [
    "model.plot_prediction_results(predictions)"
   ]
  },
  {
   "cell_type": "code",
   "execution_count": null,
   "metadata": {},
   "outputs": [],
   "source": [
    "model.plot_prediction(predictions[0])"
   ]
  },
  {
   "cell_type": "code",
   "execution_count": null,
   "metadata": {},
   "outputs": [],
   "source": [
    "visualize_predictions(predictions)"
   ]
  },
  {
   "cell_type": "code",
   "execution_count": null,
   "metadata": {},
   "outputs": [],
   "source": [
    "for pred in predictions:\n",
    "    print(f\"\\nPrediction for {pred['date_str']}:\")\n",
    "    unique, counts = np.unique(pred['classification'], return_counts=True)\n",
    "    for cls, count in zip(unique, counts):\n",
    "        print(f\"Class {cls} ({model.class_mapping[cls]}): {count} pixels\")\n",
    "    print(f\"Mean confidence: {np.mean(pred['confidence']):.3f}\")"
   ]
  },
  {
   "cell_type": "code",
   "execution_count": null,
   "metadata": {},
   "outputs": [],
   "source": [
    "analyzer = ModelAnalysis()"
   ]
  },
  {
   "cell_type": "code",
   "execution_count": null,
   "metadata": {},
   "outputs": [],
   "source": [
    "print(\"\\nAnalyzing class distribution...\")\n",
    "class_dist = analyzer.analyze_class_distribution(predictions)\n",
    "print(class_dist)\n",
    "        \n",
    "print(\"\\nAnalyzing prediction confidence...\")\n",
    "confidence_analysis = analyzer.analyze_confidence(predictions)\n",
    "print(confidence_analysis)\n",
    "        \n",
    "print(\"\\nAnalyzing spatial changes...\")\n",
    "spatial_changes = analyzer.analyze_spatial_changes(predictions)\n",
    "print(spatial_changes)"
   ]
  },
  {
   "cell_type": "code",
   "execution_count": null,
   "metadata": {},
   "outputs": [],
   "source": [
    "total_data = all_processed_data + predictions"
   ]
  },
  {
   "cell_type": "code",
   "execution_count": null,
   "metadata": {},
   "outputs": [],
   "source": [
    "P_map = create_prediction_map_with_slider(total_data, bounds, roi_gdf)\n",
    "P_map"
   ]
  },
  {
   "cell_type": "code",
   "execution_count": null,
   "metadata": {},
   "outputs": [],
   "source": [
    "P_view = create_prediction_viewer(total_data)\n",
    "display(P_view)"
   ]
  }
 ],
 "metadata": {
  "kernelspec": {
   "display_name": "py_venv",
   "language": "python",
   "name": "python3"
  },
  "language_info": {
   "codemirror_mode": {
    "name": "ipython",
    "version": 3
   },
   "file_extension": ".py",
   "mimetype": "text/x-python",
   "name": "python",
   "nbconvert_exporter": "python",
   "pygments_lexer": "ipython3",
   "version": "3.10.11"
  }
 },
 "nbformat": 4,
 "nbformat_minor": 2
}
